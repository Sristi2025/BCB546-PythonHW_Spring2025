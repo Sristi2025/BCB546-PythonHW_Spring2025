{
 "cells": [
  {
   "cell_type": "markdown",
   "id": "1bb80e15",
   "metadata": {},
   "source": [
    "## Load the Cytochrome-b Sequences\n",
    "We load the `.fasta` file using Biopython's `SeqIO` to parse the 12 species of penguin sequences."
   ]
  },
  {
   "cell_type": "code",
   "execution_count": 1,
   "id": "48343450",
   "metadata": {},
   "outputs": [
    {
     "name": "stdout",
     "output_type": "stream",
     "text": [
      "Loaded 12 sequences\n"
     ]
    }
   ],
   "source": [
    "from Bio import SeqIO\n",
    "\n",
    "records = list(SeqIO.parse(\"penguins_cytb.fasta\", \"fasta\"))\n",
    "print(f\"Loaded {len(records)} sequences\")"
   ]
  },
  {
   "cell_type": "markdown",
   "id": "733ed056",
   "metadata": {},
   "source": [
    "## Step-1: Document Dr. X's GET SEQUENCES FUNCTION\n",
    "\n",
    "The `get_sequences_from_file(fasta_fn)` function reads a fasta file and extracts the DNA sequences for individual penguin species category. It analyses each record, takes the penguin species names from the sequence description, and stores the sequence as a value in dictionary where the key is the species name.\n",
    "\n",
    "## Return types:\n",
    "- 'dict' : A dictionary where the keys are the names of species of penguins, for example: \"Aptenodytes forsteri\", and values (sequences are saved as values in dictionary) are 'Seq' objects of the DNA sequences. \n",
    "\n",
    "## Arguements:\n",
    "- 'fasta_fn' (str) : This is the path to a FASTA file that contains the DNA sequences. \n",
    "\n",
    "\n"
   ]
  },
  {
   "cell_type": "code",
   "execution_count": 6,
   "id": "b2781f0d",
   "metadata": {},
   "outputs": [],
   "source": [
    "from Bio import SeqIO\n",
    "\n",
    "def get_sequences_from_file(fasta_fn):\n",
    "    \"\"\"\n",
    "    Extracts DNA sequences from a FASTA file and saves them in a dictionary using the name of species.\n",
    "\n",
    "    Args:\n",
    "        fasta_fn (str): Path to the FASTA file that contains the DNA sequences.\n",
    "\n",
    "    Returns:\n",
    "        dict: Dictionary with species names as keys and DNA sequences (Bio.Seq object) as values.\n",
    "    \"\"\"\n",
    "    sequence_data_dict = {} # Creates an empty dictionary to save sequences\n",
    "    for record in SeqIO.parse(fasta_fn, \"fasta\"): # Analyses each sequence record in the FASTA file\n",
    "        description = record.description.split() # Splits the description line into parts\n",
    "        species_name = description[1] + \" \" + description[2] # Get the species and genus names for 2nd and 3rd words\n",
    "        sequence_data_dict[species_name] = record.seq # Saves the sequence with the species name as the key\n",
    "    return sequence_data_dict # Returns the completed dictionary"
   ]
  },
  {
   "cell_type": "code",
   "execution_count": 5,
   "id": "0f9dd759",
   "metadata": {},
   "outputs": [
    {
     "name": "stdout",
     "output_type": "stream",
     "text": [
      "Loaded 12 penguin sequences.\n"
     ]
    },
    {
     "data": {
      "text/plain": [
       "['Aptenodytes forsteri',\n",
       " 'Aptenodytes patagonicus',\n",
       " 'Eudyptes chrysocome',\n",
       " 'Eudyptes chrysolophus',\n",
       " 'Eudyptes sclateri',\n",
       " 'Eudyptula minor',\n",
       " 'Pygoscelis adeliae',\n",
       " 'Pygoscelis antarctica',\n",
       " 'Pygoscelis papua',\n",
       " 'Spheniscus demersus',\n",
       " 'Spheniscus humboldti',\n",
       " 'Spheniscus magellanicus']"
      ]
     },
     "execution_count": 5,
     "metadata": {},
     "output_type": "execute_result"
    }
   ],
   "source": [
    "cytb_seqs = get_sequences_from_file(\"penguins_cytb.fasta\")\n",
    "print(f\"Loaded {len(cytb_seqs)} penguin sequences.\")\n",
    "list(cytb_seqs.keys())"
   ]
  },
  {
   "cell_type": "markdown",
   "id": "c2811ed8",
   "metadata": {},
   "source": [
    "## Step-2: Translation of nucleotides to amino acids\n",
    "A function that translates a string of nucleotides to amino acids based on Dr. X's pseudo-code suggestion. It loops through the sequence in three codons and converts each codon into an amino acid and builds a string. If a stop codon is found, the translation stops there.  "
   ]
  },
  {
   "cell_type": "code",
   "execution_count": null,
   "id": "70777835",
   "metadata": {},
   "outputs": [],
   "source": []
  },
  {
   "cell_type": "code",
   "execution_count": null,
   "id": "f1036d64",
   "metadata": {},
   "outputs": [],
   "source": []
  }
 ],
 "metadata": {
  "kernelspec": {
   "display_name": "Python3 (BCB/EEOB 546)",
   "language": "python",
   "name": "notebook"
  },
  "language_info": {
   "codemirror_mode": {
    "name": "ipython",
    "version": 3
   },
   "file_extension": ".py",
   "mimetype": "text/x-python",
   "name": "python",
   "nbconvert_exporter": "python",
   "pygments_lexer": "ipython3",
   "version": "3.13.2"
  }
 },
 "nbformat": 4,
 "nbformat_minor": 5
}
